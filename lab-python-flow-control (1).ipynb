{
 "cells": [
  {
   "cell_type": "markdown",
   "id": "d3bfc191-8885-42ee-b0a0-bbab867c6f9f",
   "metadata": {
    "tags": []
   },
   "source": [
    "# Lab | Flow Control"
   ]
  },
  {
   "cell_type": "markdown",
   "id": "3851fcd1-cf98-4653-9c89-e003b7ec9400",
   "metadata": {},
   "source": [
    "### Exercise: Managing Customer Orders Optimized\n",
    "\n",
    "In the last lab, you were starting an online store that sells various products. To ensure smooth operations, you developed a program that manages customer orders and inventory.\n",
    "\n",
    "You did so without using flow control. Let's go a step further and improve this code.\n",
    "\n",
    "Follow the steps below to complete the exercise:\n",
    "\n",
    "1. Look at your code from the lab data structures, and improve repeated code with loops.\n",
    "\n",
    "2. Instead of asking the user to input the name of three products that a customer wants to order, do the following:\n",
    "    \n",
    "    a. Prompt the user to enter the name of a product that a customer wants to order.\n",
    "    \n",
    "    b. Add the product name to the \"customer_orders\" set.\n",
    "    \n",
    "    c. Ask the user if they want to add another product (yes/no).\n",
    "    \n",
    "    d. Continue the loop until the user does not want to add another product.\n",
    "\n",
    "3. Instead of updating the inventory by subtracting 1 from the quantity of each product, only do it for the products that were ordered (those in \"customer_orders\")."
   ]
  },
  {
   "cell_type": "code",
   "execution_count": 1,
   "id": "c79ffc6b-bc4b-4396-a998-20bd9221f06a",
   "metadata": {},
   "outputs": [
    {
     "name": "stdin",
     "output_type": "stream",
     "text": [
      "Please enter the quantity of each product available in the inventory t-shirt: 5\n",
      "Please enter the quantity of each product available in the inventory mug: 4\n",
      "Please enter the quantity of each product available in the inventory hat: 3\n",
      "Please enter the quantity of each product available in the inventory book: 2\n",
      "Please enter the quantity of each product available in the inventory keychain: 1\n"
     ]
    },
    {
     "name": "stdout",
     "output_type": "stream",
     "text": [
      "{'t-shirt': 5, 'mug': 4, 'hat': 3, 'book': 2, 'keychain': 1}\n"
     ]
    }
   ],
   "source": [
    "#1. Look at your code from the lab data structures, and improve repeated code with loops.\n",
    "\n",
    "products=[\"t-shirt\", \"mug\", \"hat\", \"book\", \"keychain\"]\n",
    "inventory={}      \n",
    "for product in products:\n",
    "    quantity=int(input(f'Please enter the quantity of each product available in the inventory {product}:'))\n",
    "    inventory[product]=quantity\n",
    "print(inventory)\n",
    "\n"
   ]
  },
  {
   "cell_type": "code",
   "execution_count": 3,
   "id": "ce56f5f5-c1ad-4dcc-b241-b52f83fcfd30",
   "metadata": {},
   "outputs": [],
   "source": [
    "# 2. Instead of asking the user to input the name of three products that a customer wants to order, do the following:\n",
    "# a. Prompt the user to enter the name of a product that a customer wants to order."
   ]
  },
  {
   "cell_type": "code",
   "execution_count": 5,
   "id": "272f3ab4-510e-40b9-baa8-d1daf0d0ff68",
   "metadata": {},
   "outputs": [
    {
     "name": "stdin",
     "output_type": "stream",
     "text": [
      "Please enter the first product you would like to order: hat\n"
     ]
    },
    {
     "name": "stdout",
     "output_type": "stream",
     "text": [
      "{'hat'}\n"
     ]
    }
   ],
   "source": [
    "customer_orders=set()\n",
    "order1= input('Please enter the first product you would like to order:')\n",
    "customer_orders.add(order1)\n",
    "print(customer_orders)"
   ]
  },
  {
   "cell_type": "code",
   "execution_count": 7,
   "id": "137f2697-0ae2-457b-9246-96164bfc3a8d",
   "metadata": {},
   "outputs": [],
   "source": [
    "#b. Add the product name to the \"customer_orders\" set."
   ]
  },
  {
   "cell_type": "code",
   "execution_count": 9,
   "id": "8ff49ccf-4cbf-4136-be44-a8bd8f50c554",
   "metadata": {},
   "outputs": [],
   "source": [
    "#c. Ask the user if they want to add another product (yes/no)."
   ]
  },
  {
   "cell_type": "markdown",
   "id": "43edd646-72ae-4f71-8f25-c1b836488441",
   "metadata": {},
   "source": [
    "2. Instead of asking the user to input the name of three products that a customer wants to order, do the following:\n",
    "    \n",
    "    a. Prompt the user to enter the name of a product that a customer wants to order.\n",
    "    \n",
    "    b. Add the product name to the \"customer_orders\" set.\n",
    "    \n",
    "    c. Ask the user if they want to add another product (yes/no).\n",
    "    \n",
    "    d. Continue the loop until the user does not want to add another product."
   ]
  },
  {
   "cell_type": "code",
   "execution_count": 12,
   "id": "2da719b8-c4a5-4b4d-bcf6-6b4e4c2fb4d6",
   "metadata": {},
   "outputs": [],
   "source": [
    "customer_orders=set()"
   ]
  },
  {
   "cell_type": "code",
   "execution_count": 14,
   "id": "54d5a16a-642c-40fe-afaa-1dcae4d19b0d",
   "metadata": {},
   "outputs": [
    {
     "name": "stdin",
     "output_type": "stream",
     "text": [
      "What would you like to order? hat\n",
      "Would you like to add another product? yes\n",
      "What would you like to order? mug\n",
      "Would you like to add another product? no\n"
     ]
    }
   ],
   "source": [
    "question='yes'\n",
    "while question == 'yes':\n",
    "    order= input('What would you like to order?')\n",
    "    customer_orders.add(order)\n",
    "    question=input('Would you like to add another product?')"
   ]
  },
  {
   "cell_type": "code",
   "execution_count": 16,
   "id": "28252ff5-2a9a-440b-9166-1604ce540799",
   "metadata": {},
   "outputs": [
    {
     "name": "stdout",
     "output_type": "stream",
     "text": [
      "{'hat', 'mug'}\n"
     ]
    }
   ],
   "source": [
    "print(customer_orders)"
   ]
  },
  {
   "cell_type": "markdown",
   "id": "49f8c976-81e7-4047-9f82-ea4f25b1a0fb",
   "metadata": {},
   "source": [
    "#3. Instead of updating the inventory by subtracting 1 from the quantity of each product, only do it for the products that were ordered (those in \"customer_orders\").\n"
   ]
  },
  {
   "cell_type": "code",
   "execution_count": 19,
   "id": "cf4c26d8-52d9-49e5-98b6-a53ca26bf3be",
   "metadata": {},
   "outputs": [
    {
     "name": "stdout",
     "output_type": "stream",
     "text": [
      "{'t-shirt': 5, 'mug': 4, 'hat': 3, 'book': 2, 'keychain': 1}\n"
     ]
    }
   ],
   "source": [
    "print(inventory)"
   ]
  },
  {
   "cell_type": "code",
   "execution_count": 21,
   "id": "e9d4060d-6a14-4d14-b6b6-a21635c8bc17",
   "metadata": {},
   "outputs": [
    {
     "name": "stdout",
     "output_type": "stream",
     "text": [
      "{'t-shirt': 5, 'mug': 4, 'hat': 3, 'book': 2, 'keychain': 1}\n"
     ]
    }
   ],
   "source": [
    "print(inventory)"
   ]
  },
  {
   "cell_type": "code",
   "execution_count": 23,
   "id": "4fda16e3-dcec-4814-a646-21b011a32aa1",
   "metadata": {},
   "outputs": [],
   "source": [
    "X= 5"
   ]
  },
  {
   "cell_type": "code",
   "execution_count": 1,
   "id": "81445a6c-4eaf-4d79-bb4a-6716adb90354",
   "metadata": {},
   "outputs": [],
   "source": [
    "y = \"6\""
   ]
  },
  {
   "cell_type": "code",
   "execution_count": 3,
   "id": "219f802d-b854-4225-82c0-5632db87031b",
   "metadata": {},
   "outputs": [],
   "source": [
    "z=5"
   ]
  },
  {
   "cell_type": "code",
   "execution_count": null,
   "id": "53c476a3-5d23-4478-88d0-3e29595f74ca",
   "metadata": {},
   "outputs": [],
   "source": []
  }
 ],
 "metadata": {
  "kernelspec": {
   "display_name": "Python 3 (ipykernel)",
   "language": "python",
   "name": "python3"
  },
  "language_info": {
   "codemirror_mode": {
    "name": "ipython",
    "version": 3
   },
   "file_extension": ".py",
   "mimetype": "text/x-python",
   "name": "python",
   "nbconvert_exporter": "python",
   "pygments_lexer": "ipython3",
   "version": "3.12.4"
  }
 },
 "nbformat": 4,
 "nbformat_minor": 5
}
